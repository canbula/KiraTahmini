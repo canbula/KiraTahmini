{
 "cells": [
  {
   "cell_type": "markdown",
   "metadata": {},
   "source": [
    "# Ege Bölgesi için bir kira tahmin uygulaması"
   ]
  },
  {
   "cell_type": "code",
   "execution_count": 68,
   "metadata": {},
   "outputs": [],
   "source": [
    "import os\n",
    "import numpy as np\n",
    "import pandas as pd"
   ]
  },
  {
   "cell_type": "code",
   "execution_count": 120,
   "metadata": {},
   "outputs": [],
   "source": [
    "def drop_columns(df, cols):\n",
    "    \"\"\"\n",
    "    This function removes the columns from a DataFrame.\n",
    "    \"\"\"\n",
    "    for col in cols:\n",
    "        try:\n",
    "            df.drop([col], axis=1, inplace=True)\n",
    "        except Exception as e:\n",
    "            print(f\"Bir hata oluştu: {e}\")"
   ]
  },
  {
   "cell_type": "code",
   "execution_count": 69,
   "metadata": {},
   "outputs": [],
   "source": [
    "files = os.listdir('hepsiemlak')\n",
    "df = pd.concat([pd.read_csv(f\"hepsiemlak/{file}\") for file in files], ignore_index=True)"
   ]
  },
  {
   "cell_type": "code",
   "execution_count": 70,
   "metadata": {},
   "outputs": [
    {
     "name": "stdout",
     "output_type": "stream",
     "text": [
      "<class 'pandas.core.frame.DataFrame'>\n",
      "RangeIndex: 8136 entries, 0 to 8135\n",
      "Data columns (total 18 columns):\n",
      " #   Column               Non-Null Count  Dtype  \n",
      "---  ------               --------------  -----  \n",
      " 0   img-link href        8136 non-null   object \n",
      " 1   photo-count          8130 non-null   float64\n",
      " 2   list-view-price      8136 non-null   object \n",
      " 3   list-view-date       8136 non-null   object \n",
      " 4   celly                8136 non-null   object \n",
      " 5   celly 2              8136 non-null   object \n",
      " 6   celly 3              8136 non-null   object \n",
      " 7   celly 4              6858 non-null   object \n",
      " 8   list-view-header     8129 non-null   object \n",
      " 9   list-view-location   8136 non-null   object \n",
      " 10  he-lazy-image src    7649 non-null   object \n",
      " 11  left                 8114 non-null   object \n",
      " 12  img-wrp href         4555 non-null   object \n",
      " 13  he-lazy-image src 2  4067 non-null   object \n",
      " 14  branded__text        134 non-null    object \n",
      " 15  branded__text 2      134 non-null    object \n",
      " 16  img-wrp href 2       133 non-null    object \n",
      " 17  he-lazy-image src 3  116 non-null    object \n",
      "dtypes: float64(1), object(17)\n",
      "memory usage: 1.1+ MB\n",
      "None\n"
     ]
    }
   ],
   "source": [
    "print(df.info())"
   ]
  },
  {
   "cell_type": "code",
   "execution_count": 71,
   "metadata": {},
   "outputs": [
    {
     "name": "stdout",
     "output_type": "stream",
     "text": [
      "Index(['img-link href', 'photo-count', 'list-view-price', 'list-view-date',\n",
      "       'celly', 'celly 2', 'celly 3', 'celly 4', 'list-view-header',\n",
      "       'list-view-location', 'he-lazy-image src', 'left', 'img-wrp href',\n",
      "       'he-lazy-image src 2', 'branded__text', 'branded__text 2',\n",
      "       'img-wrp href 2', 'he-lazy-image src 3'],\n",
      "      dtype='object')\n"
     ]
    }
   ],
   "source": [
    "print(df.columns)"
   ]
  },
  {
   "cell_type": "code",
   "execution_count": 121,
   "metadata": {},
   "outputs": [
    {
     "name": "stdout",
     "output_type": "stream",
     "text": [
      "Bir hata oluştu: \"['photo-count'] not found in axis\"\n",
      "Bir hata oluştu: \"['list-view-date'] not found in axis\"\n",
      "Bir hata oluştu: \"['list-view-header'] not found in axis\"\n",
      "Bir hata oluştu: \"['list-view-location'] not found in axis\"\n",
      "Bir hata oluştu: \"['he-lazy-image src'] not found in axis\"\n",
      "Bir hata oluştu: \"['left'] not found in axis\"\n",
      "Bir hata oluştu: \"['img-wrp href'] not found in axis\"\n",
      "Bir hata oluştu: \"['he-lazy-image src 2'] not found in axis\"\n",
      "Bir hata oluştu: \"['branded__text'] not found in axis\"\n",
      "Bir hata oluştu: \"['branded__text 2'] not found in axis\"\n",
      "Bir hata oluştu: \"['img-wrp href 2'] not found in axis\"\n",
      "Bir hata oluştu: \"['he-lazy-image src 3'] not found in axis\"\n"
     ]
    }
   ],
   "source": [
    "cols = ['photo-count', 'list-view-date', 'list-view-header', 'list-view-location', 'he-lazy-image src', 'left', 'img-wrp href', 'he-lazy-image src 2', 'branded__text', 'branded__text 2', 'img-wrp href 2', 'he-lazy-image src 3']\n",
    "drop_columns(df, cols)"
   ]
  },
  {
   "cell_type": "code",
   "execution_count": 73,
   "metadata": {},
   "outputs": [
    {
     "name": "stdout",
     "output_type": "stream",
     "text": [
      "<class 'pandas.core.frame.DataFrame'>\n",
      "RangeIndex: 8136 entries, 0 to 8135\n",
      "Data columns (total 6 columns):\n",
      " #   Column           Non-Null Count  Dtype \n",
      "---  ------           --------------  ----- \n",
      " 0   img-link href    8136 non-null   object\n",
      " 1   list-view-price  8136 non-null   object\n",
      " 2   celly            8136 non-null   object\n",
      " 3   celly 2          8136 non-null   object\n",
      " 4   celly 3          8136 non-null   object\n",
      " 5   celly 4          6858 non-null   object\n",
      "dtypes: object(6)\n",
      "memory usage: 381.5+ KB\n",
      "None\n"
     ]
    }
   ],
   "source": [
    "print(df.info())"
   ]
  },
  {
   "cell_type": "code",
   "execution_count": 116,
   "metadata": {},
   "outputs": [],
   "source": [
    "df['location'] = df['img-link href'].apply(lambda x: x.split('/')[3])\n",
    "df['city'] = df['location'].str.split('-').str[0]\n",
    "df['district'] = df['location'].str.split('-').str[1]\n",
    "df['neighborhood'] = df['location'].str.split('-').str[2:-1]\n",
    "df['neighborhood'] = df['neighborhood'].apply(lambda x: '_'.join(x))"
   ]
  },
  {
   "cell_type": "code",
   "execution_count": 122,
   "metadata": {},
   "outputs": [],
   "source": [
    "drop_columns(df, ['location', 'img-link href'])"
   ]
  },
  {
   "cell_type": "code",
   "execution_count": 123,
   "metadata": {},
   "outputs": [
    {
     "name": "stdout",
     "output_type": "stream",
     "text": [
      "<class 'pandas.core.frame.DataFrame'>\n",
      "RangeIndex: 8136 entries, 0 to 8135\n",
      "Data columns (total 8 columns):\n",
      " #   Column           Non-Null Count  Dtype \n",
      "---  ------           --------------  ----- \n",
      " 0   list-view-price  8136 non-null   object\n",
      " 1   celly            8136 non-null   object\n",
      " 2   celly 2          8136 non-null   object\n",
      " 3   celly 3          8136 non-null   object\n",
      " 4   celly 4          6858 non-null   object\n",
      " 5   city             8136 non-null   object\n",
      " 6   district         8136 non-null   object\n",
      " 7   neighborhood     8136 non-null   object\n",
      "dtypes: object(8)\n",
      "memory usage: 508.6+ KB\n",
      "None\n"
     ]
    }
   ],
   "source": [
    "print(df.info())"
   ]
  },
  {
   "cell_type": "code",
   "execution_count": 129,
   "metadata": {},
   "outputs": [
    {
     "name": "stdout",
     "output_type": "stream",
     "text": [
      "         city      district              neighborhood\n",
      "4499  denizli  merkezefendi               degirmenonu\n",
      "1405    izmir       bornova                  yesilova\n",
      "7943    mugla        ortaca                   fevziye\n",
      "3669    aydin        efeler  hasanefendi_ramazan_pasa\n",
      "3897  denizli  merkezefendi                   gultepe\n",
      "6778   manisa       akhisar                   ataturk\n",
      "1065    izmir         konak                halkapinar\n",
      "5284    izmir         cesme                     ilica\n",
      "2373    izmir       menemen         85_yil_cumhuriyet\n",
      "4281  denizli     pamukkale                   kinikli\n",
      "3990  denizli  merkezefendi                   kayalar\n",
      "5505    izmir     karsiyaka                cumhuriyet\n",
      "4497  denizli     pamukkale             hacikaplanlar\n",
      "7987    mugla      marmaris                    cildir\n",
      "3862  denizli  merkezefendi               karahasanli\n",
      "956     izmir         konak                murat_reis\n",
      "2638    mugla        ortaca                 karaburun\n",
      "4534  denizli     pamukkale               asmalievler\n",
      "4729    izmir     karsiyaka               fikri_altay\n",
      "2757    izmir          urla                 sirinkent\n",
      "4215  denizli     pamukkale                    zumrut\n",
      "5566    mugla         milas                  bogazici\n",
      "5599    mugla        bodrum                 koyunbaba\n",
      "3797  denizli  merkezefendi                  saraylar\n",
      "746     izmir       bornova                     zafer\n",
      "6859   manisa       akhisar                      pasa\n",
      "4359  denizli     pamukkale             hacikaplanlar\n",
      "6829   manisa     saruhanli                   ataturk\n",
      "5325    izmir         konak                    kultur\n",
      "1767    izmir     narlidere                     narli\n",
      "6247    mugla      marmaris                  selimiye\n",
      "2798    izmir          buca                   adatepe\n",
      "5322    izmir          buca                   aydogdu\n",
      "7647    mugla        ortaca                    dalyan\n",
      "3160    aydin      kusadasi                   karaova\n",
      "5342    izmir          foca                   ataturk\n",
      "524     izmir    karabaglar                   poligon\n",
      "355     izmir       balcova              fevzi_cakmak\n",
      "348     izmir      gaziemir                  gazikent\n",
      "1929    izmir       menemen                   9_eylul\n",
      "5871    mugla      marmaris                   siteler\n",
      "759     izmir      menderes                 golcukler\n",
      "4224  denizli  merkezefendi                 muratdede\n",
      "7000    mugla         milas                  dorttepe\n",
      "5147    izmir          buca                  yigitler\n",
      "5672    mugla         milas                    gulluk\n",
      "4042  denizli  merkezefendi                selcuk_bey\n",
      "6131    mugla           ula                 kizilagac\n",
      "161     izmir   seferihisar         colak_ibrahim_bey\n",
      "3053    aydin        efeler         koprulu_veysipasa\n"
     ]
    }
   ],
   "source": [
    "print(df[['city', 'district', 'neighborhood']].sample(50))"
   ]
  },
  {
   "cell_type": "code",
   "execution_count": null,
   "metadata": {},
   "outputs": [],
   "source": []
  }
 ],
 "metadata": {
  "kernelspec": {
   "display_name": "Python 3",
   "language": "python",
   "name": "python3"
  },
  "language_info": {
   "codemirror_mode": {
    "name": "ipython",
    "version": 3
   },
   "file_extension": ".py",
   "mimetype": "text/x-python",
   "name": "python",
   "nbconvert_exporter": "python",
   "pygments_lexer": "ipython3",
   "version": "3.12.3"
  }
 },
 "nbformat": 4,
 "nbformat_minor": 2
}
