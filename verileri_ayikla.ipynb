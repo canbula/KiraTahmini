{
 "cells": [
  {
   "cell_type": "markdown",
   "metadata": {},
   "source": [
    "# Ege Bölgesi için bir kira tahmin uygulaması"
   ]
  },
  {
   "cell_type": "code",
   "execution_count": 3,
   "metadata": {},
   "outputs": [],
   "source": [
    "import os\n",
    "import numpy as np\n",
    "import pandas as pd"
   ]
  },
  {
   "cell_type": "code",
   "execution_count": 19,
   "metadata": {},
   "outputs": [],
   "source": [
    "files = os.listdir('hepsiemlak')\n",
    "df = pd.concat([pd.read_csv(f\"hepsiemlak/{file}\") for file in files], ignore_index=True)"
   ]
  },
  {
   "cell_type": "code",
   "execution_count": 20,
   "metadata": {},
   "outputs": [
    {
     "name": "stdout",
     "output_type": "stream",
     "text": [
      "<class 'pandas.core.frame.DataFrame'>\n",
      "RangeIndex: 8136 entries, 0 to 8135\n",
      "Data columns (total 18 columns):\n",
      " #   Column               Non-Null Count  Dtype  \n",
      "---  ------               --------------  -----  \n",
      " 0   img-link href        8136 non-null   object \n",
      " 1   photo-count          8130 non-null   float64\n",
      " 2   list-view-price      8136 non-null   object \n",
      " 3   list-view-date       8136 non-null   object \n",
      " 4   celly                8136 non-null   object \n",
      " 5   celly 2              8136 non-null   object \n",
      " 6   celly 3              8136 non-null   object \n",
      " 7   celly 4              6858 non-null   object \n",
      " 8   list-view-header     8129 non-null   object \n",
      " 9   list-view-location   8136 non-null   object \n",
      " 10  he-lazy-image src    7649 non-null   object \n",
      " 11  left                 8114 non-null   object \n",
      " 12  img-wrp href         4555 non-null   object \n",
      " 13  he-lazy-image src 2  4067 non-null   object \n",
      " 14  branded__text        134 non-null    object \n",
      " 15  branded__text 2      134 non-null    object \n",
      " 16  img-wrp href 2       133 non-null    object \n",
      " 17  he-lazy-image src 3  116 non-null    object \n",
      "dtypes: float64(1), object(17)\n",
      "memory usage: 1.1+ MB\n",
      "None\n"
     ]
    }
   ],
   "source": [
    "print(df.info())"
   ]
  },
  {
   "cell_type": "code",
   "execution_count": 39,
   "metadata": {},
   "outputs": [
    {
     "name": "stdout",
     "output_type": "stream",
     "text": [
      "Index(['img-link href', 'photo-count', 'list-view-price', 'list-view-date',\n",
      "       'celly', 'celly 2', 'celly 3', 'celly 4', 'list-view-header',\n",
      "       'list-view-location', 'he-lazy-image src', 'left', 'img-wrp href',\n",
      "       'he-lazy-image src 2', 'branded__text', 'branded__text 2',\n",
      "       'img-wrp href 2', 'he-lazy-image src 3'],\n",
      "      dtype='object')\n"
     ]
    }
   ],
   "source": [
    "print(df.columns)"
   ]
  },
  {
   "cell_type": "code",
   "execution_count": 45,
   "metadata": {},
   "outputs": [
    {
     "name": "stdout",
     "output_type": "stream",
     "text": [
      "Bir hata oluştu: \"['photo-count'] not found in axis\"\n",
      "Bir hata oluştu: \"['list-view-date'] not found in axis\"\n",
      "Bir hata oluştu: \"['list-view-header'] not found in axis\"\n",
      "Bir hata oluştu: \"['list-view-location'] not found in axis\"\n",
      "Bir hata oluştu: \"['he-lazy-image src'] not found in axis\"\n",
      "Bir hata oluştu: \"['left'] not found in axis\"\n",
      "Bir hata oluştu: \"['img-wrp href'] not found in axis\"\n",
      "Bir hata oluştu: \"['he-lazy-image src 2'] not found in axis\"\n",
      "Bir hata oluştu: \"['branded__text'] not found in axis\"\n",
      "Bir hata oluştu: \"['branded__text 2'] not found in axis\"\n",
      "Bir hata oluştu: \"['img-wrp href 2'] not found in axis\"\n",
      "Bir hata oluştu: \"['he-lazy-image src 3'] not found in axis\"\n"
     ]
    }
   ],
   "source": [
    "cols = ['photo-count', 'list-view-date', 'list-view-header', 'list-view-location', 'he-lazy-image src', 'left', 'img-wrp href', 'he-lazy-image src 2', 'branded__text', 'branded__text 2', 'img-wrp href 2', 'he-lazy-image src 3']\n",
    "for col in cols:\n",
    "    try:\n",
    "        df.drop([col], axis=1, inplace=True)\n",
    "    except Exception as e:\n",
    "        print(f\"Bir hata oluştu: {e}\")"
   ]
  },
  {
   "cell_type": "code",
   "execution_count": 41,
   "metadata": {},
   "outputs": [
    {
     "name": "stdout",
     "output_type": "stream",
     "text": [
      "<class 'pandas.core.frame.DataFrame'>\n",
      "RangeIndex: 8136 entries, 0 to 8135\n",
      "Data columns (total 6 columns):\n",
      " #   Column           Non-Null Count  Dtype \n",
      "---  ------           --------------  ----- \n",
      " 0   img-link href    8136 non-null   object\n",
      " 1   list-view-price  8136 non-null   object\n",
      " 2   celly            8136 non-null   object\n",
      " 3   celly 2          8136 non-null   object\n",
      " 4   celly 3          8136 non-null   object\n",
      " 5   celly 4          6858 non-null   object\n",
      "dtypes: object(6)\n",
      "memory usage: 381.5+ KB\n",
      "None\n"
     ]
    }
   ],
   "source": [
    "print(df.info())"
   ]
  },
  {
   "cell_type": "code",
   "execution_count": null,
   "metadata": {},
   "outputs": [],
   "source": []
  }
 ],
 "metadata": {
  "kernelspec": {
   "display_name": "Python 3",
   "language": "python",
   "name": "python3"
  },
  "language_info": {
   "codemirror_mode": {
    "name": "ipython",
    "version": 3
   },
   "file_extension": ".py",
   "mimetype": "text/x-python",
   "name": "python",
   "nbconvert_exporter": "python",
   "pygments_lexer": "ipython3",
   "version": "3.12.3"
  }
 },
 "nbformat": 4,
 "nbformat_minor": 2
}
