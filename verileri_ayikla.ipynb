{
 "cells": [
  {
   "cell_type": "markdown",
   "metadata": {},
   "source": [
    "# Ege Bölgesi için bir kira tahmin uygulaması"
   ]
  },
  {
   "cell_type": "code",
   "execution_count": 1,
   "metadata": {},
   "outputs": [],
   "source": [
    "import os\n",
    "import numpy as np\n",
    "import pandas as pd"
   ]
  },
  {
   "cell_type": "code",
   "execution_count": 2,
   "metadata": {},
   "outputs": [],
   "source": [
    "def drop_columns(df, cols):\n",
    "    \"\"\"\n",
    "    This function removes the columns from a DataFrame.\n",
    "    \"\"\"\n",
    "    for col in cols:\n",
    "        try:\n",
    "            df.drop([col], axis=1, inplace=True)\n",
    "        except Exception as e:\n",
    "            print(f\"Bir hata oluştu: {e}\")"
   ]
  },
  {
   "cell_type": "code",
   "execution_count": 3,
   "metadata": {},
   "outputs": [],
   "source": [
    "files = os.listdir('hepsiemlak')\n",
    "df = pd.concat([pd.read_csv(f\"hepsiemlak/{file}\") for file in files], ignore_index=True)"
   ]
  },
  {
   "cell_type": "code",
   "execution_count": 4,
   "metadata": {},
   "outputs": [
    {
     "name": "stdout",
     "output_type": "stream",
     "text": [
      "<class 'pandas.core.frame.DataFrame'>\n",
      "RangeIndex: 8136 entries, 0 to 8135\n",
      "Data columns (total 18 columns):\n",
      " #   Column               Non-Null Count  Dtype  \n",
      "---  ------               --------------  -----  \n",
      " 0   img-link href        8136 non-null   object \n",
      " 1   photo-count          8130 non-null   float64\n",
      " 2   list-view-price      8136 non-null   object \n",
      " 3   list-view-date       8136 non-null   object \n",
      " 4   celly                8136 non-null   object \n",
      " 5   celly 2              8136 non-null   object \n",
      " 6   celly 3              8136 non-null   object \n",
      " 7   celly 4              6858 non-null   object \n",
      " 8   list-view-header     8129 non-null   object \n",
      " 9   list-view-location   8136 non-null   object \n",
      " 10  he-lazy-image src    7649 non-null   object \n",
      " 11  left                 8114 non-null   object \n",
      " 12  img-wrp href         4555 non-null   object \n",
      " 13  he-lazy-image src 2  4067 non-null   object \n",
      " 14  branded__text        134 non-null    object \n",
      " 15  branded__text 2      134 non-null    object \n",
      " 16  img-wrp href 2       133 non-null    object \n",
      " 17  he-lazy-image src 3  116 non-null    object \n",
      "dtypes: float64(1), object(17)\n",
      "memory usage: 1.1+ MB\n",
      "None\n"
     ]
    }
   ],
   "source": [
    "print(df.info())"
   ]
  },
  {
   "cell_type": "code",
   "execution_count": 5,
   "metadata": {},
   "outputs": [
    {
     "name": "stdout",
     "output_type": "stream",
     "text": [
      "Index(['img-link href', 'photo-count', 'list-view-price', 'list-view-date',\n",
      "       'celly', 'celly 2', 'celly 3', 'celly 4', 'list-view-header',\n",
      "       'list-view-location', 'he-lazy-image src', 'left', 'img-wrp href',\n",
      "       'he-lazy-image src 2', 'branded__text', 'branded__text 2',\n",
      "       'img-wrp href 2', 'he-lazy-image src 3'],\n",
      "      dtype='object')\n"
     ]
    }
   ],
   "source": [
    "print(df.columns)"
   ]
  },
  {
   "cell_type": "code",
   "execution_count": 6,
   "metadata": {},
   "outputs": [],
   "source": [
    "cols = ['photo-count', 'list-view-date', 'list-view-header', 'list-view-location', 'he-lazy-image src', 'left', 'img-wrp href', 'he-lazy-image src 2', 'branded__text', 'branded__text 2', 'img-wrp href 2', 'he-lazy-image src 3']\n",
    "drop_columns(df, cols)"
   ]
  },
  {
   "cell_type": "code",
   "execution_count": 7,
   "metadata": {},
   "outputs": [
    {
     "name": "stdout",
     "output_type": "stream",
     "text": [
      "<class 'pandas.core.frame.DataFrame'>\n",
      "RangeIndex: 8136 entries, 0 to 8135\n",
      "Data columns (total 6 columns):\n",
      " #   Column           Non-Null Count  Dtype \n",
      "---  ------           --------------  ----- \n",
      " 0   img-link href    8136 non-null   object\n",
      " 1   list-view-price  8136 non-null   object\n",
      " 2   celly            8136 non-null   object\n",
      " 3   celly 2          8136 non-null   object\n",
      " 4   celly 3          8136 non-null   object\n",
      " 5   celly 4          6858 non-null   object\n",
      "dtypes: object(6)\n",
      "memory usage: 381.5+ KB\n",
      "None\n"
     ]
    }
   ],
   "source": [
    "print(df.info())"
   ]
  },
  {
   "cell_type": "code",
   "execution_count": 8,
   "metadata": {},
   "outputs": [],
   "source": [
    "df['location'] = df['img-link href'].apply(lambda x: x.split('/')[3])\n",
    "df['city'] = df['location'].str.split('-').str[0]\n",
    "df['district'] = df['location'].str.split('-').str[1]\n",
    "df['neighborhood'] = df['location'].str.split('-').str[2:-1]\n",
    "df['neighborhood'] = df['neighborhood'].apply(lambda x: '_'.join(x))"
   ]
  },
  {
   "cell_type": "code",
   "execution_count": 9,
   "metadata": {},
   "outputs": [],
   "source": [
    "drop_columns(df, ['location', 'img-link href'])"
   ]
  },
  {
   "cell_type": "code",
   "execution_count": 10,
   "metadata": {},
   "outputs": [
    {
     "name": "stdout",
     "output_type": "stream",
     "text": [
      "<class 'pandas.core.frame.DataFrame'>\n",
      "RangeIndex: 8136 entries, 0 to 8135\n",
      "Data columns (total 8 columns):\n",
      " #   Column           Non-Null Count  Dtype \n",
      "---  ------           --------------  ----- \n",
      " 0   list-view-price  8136 non-null   object\n",
      " 1   celly            8136 non-null   object\n",
      " 2   celly 2          8136 non-null   object\n",
      " 3   celly 3          8136 non-null   object\n",
      " 4   celly 4          6858 non-null   object\n",
      " 5   city             8136 non-null   object\n",
      " 6   district         8136 non-null   object\n",
      " 7   neighborhood     8136 non-null   object\n",
      "dtypes: object(8)\n",
      "memory usage: 508.6+ KB\n",
      "None\n"
     ]
    }
   ],
   "source": [
    "print(df.info())"
   ]
  },
  {
   "cell_type": "code",
   "execution_count": 11,
   "metadata": {},
   "outputs": [
    {
     "name": "stdout",
     "output_type": "stream",
     "text": [
      "         city      district        neighborhood\n",
      "4170  denizli     pamukkale         asmalievler\n",
      "675     izmir       bornova               inonu\n",
      "2334    izmir      bayrakli                emek\n",
      "6364    mugla        bodrum            turkbuku\n",
      "7343    mugla        bodrum             muskebi\n",
      "916     izmir         cesme             alacati\n",
      "3444    aydin       nazilli               yesil\n",
      "2644    mugla      marmaris            orhaniye\n",
      "7473    mugla        ortaca             ataturk\n",
      "4499  denizli  merkezefendi         degirmenonu\n",
      "4689    izmir         konak         mimar_sinan\n",
      "2001    izmir       bergama           fevzipasa\n",
      "7931    mugla        bodrum           yalikavak\n",
      "1345    izmir         cesme             ciftlik\n",
      "6169    mugla        bodrum           eskicesme\n",
      "2368    izmir         cesme              dalyan\n",
      "4810    izmir     karsiyaka           donanmaci\n",
      "2827    izmir        odemis               zafer\n",
      "1523    izmir         konak         mimar_sinan\n",
      "1716    izmir        odemis            hurriyet\n",
      "6370    mugla        bodrum           koyunbaba\n",
      "8076    mugla       fethiye             ciftlik\n",
      "1704    izmir     karsiyaka                tuna\n",
      "5960    mugla        bodrum           yalikavak\n",
      "5665    mugla       fethiye                foca\n",
      "5090    izmir         cesme             alacati\n",
      "4582  denizli     pamukkale             kinikli\n",
      "1643    izmir         konak          mithatpasa\n",
      "7650    mugla        ortaca           karaburun\n",
      "3650    aydin      kusadasi                 ege\n",
      "3934  denizli  merkezefendi         sirakapilar\n",
      "7983    mugla        ortaca            beskopru\n",
      "6544    mugla       dalaman              merkez\n",
      "7045    mugla    seydikemer          cumhuriyet\n",
      "5216    izmir          buca              laleli\n",
      "7042    mugla       mentese          karamehmet\n",
      "5108    izmir         cesme          cumhuriyet\n",
      "7369    mugla        bodrum              dirmil\n",
      "7585    mugla       dalaman             atakent\n",
      "5691    mugla         datca              emecik\n",
      "2176    izmir     karsiyaka             atakent\n",
      "5513    izmir         cigli         kucuk_cigli\n",
      "1194    izmir         cesme             alacati\n",
      "676     izmir          buca           kurucesme\n",
      "6928   manisa    sehzadeler      adnan_menderes\n",
      "8050    mugla        bodrum           yalikavak\n",
      "7127    mugla        bodrum             tepecik\n",
      "5032    izmir         cesme             alacati\n",
      "1525    izmir    guzelbahce  mustafa_kemal_pasa\n",
      "6369    mugla      koycegiz               yangi\n"
     ]
    }
   ],
   "source": [
    "print(df[['city', 'district', 'neighborhood']].sample(50))"
   ]
  },
  {
   "cell_type": "code",
   "execution_count": null,
   "metadata": {},
   "outputs": [],
   "source": []
  }
 ],
 "metadata": {
  "kernelspec": {
   "display_name": "Python 3",
   "language": "python",
   "name": "python3"
  },
  "language_info": {
   "codemirror_mode": {
    "name": "ipython",
    "version": 3
   },
   "file_extension": ".py",
   "mimetype": "text/x-python",
   "name": "python",
   "nbconvert_exporter": "python",
   "pygments_lexer": "ipython3",
   "version": "3.12.3"
  }
 },
 "nbformat": 4,
 "nbformat_minor": 2
}
