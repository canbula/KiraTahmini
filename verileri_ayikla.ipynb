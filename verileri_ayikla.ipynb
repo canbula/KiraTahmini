{
 "cells": [
  {
   "cell_type": "markdown",
   "metadata": {},
   "source": [
    "# Ege Bölgesi için bir kira tahmin uygulaması"
   ]
  },
  {
   "cell_type": "code",
   "execution_count": 97,
   "metadata": {},
   "outputs": [],
   "source": [
    "import os\n",
    "import numpy as np\n",
    "import pandas as pd"
   ]
  },
  {
   "cell_type": "code",
   "execution_count": 98,
   "metadata": {},
   "outputs": [],
   "source": [
    "def drop_columns(df, cols):\n",
    "    \"\"\"\n",
    "    This function removes the columns from a DataFrame.\n",
    "    \"\"\"\n",
    "    for col in cols:\n",
    "        try:\n",
    "            df.drop([col], axis=1, inplace=True)\n",
    "        except Exception as e:\n",
    "            print(f\"Bir hata oluştu: {e}\")"
   ]
  },
  {
   "cell_type": "code",
   "execution_count": 99,
   "metadata": {},
   "outputs": [],
   "source": [
    "files = os.listdir('hepsiemlak')\n",
    "df = pd.concat([pd.read_csv(f\"hepsiemlak/{file}\") for file in files], ignore_index=True)"
   ]
  },
  {
   "cell_type": "code",
   "execution_count": 100,
   "metadata": {},
   "outputs": [
    {
     "name": "stdout",
     "output_type": "stream",
     "text": [
      "<class 'pandas.core.frame.DataFrame'>\n",
      "RangeIndex: 8136 entries, 0 to 8135\n",
      "Data columns (total 18 columns):\n",
      " #   Column               Non-Null Count  Dtype  \n",
      "---  ------               --------------  -----  \n",
      " 0   img-link href        8136 non-null   object \n",
      " 1   photo-count          8130 non-null   float64\n",
      " 2   list-view-price      8136 non-null   object \n",
      " 3   list-view-date       8136 non-null   object \n",
      " 4   celly                8136 non-null   object \n",
      " 5   celly 2              8136 non-null   object \n",
      " 6   celly 3              8136 non-null   object \n",
      " 7   celly 4              6858 non-null   object \n",
      " 8   list-view-header     8129 non-null   object \n",
      " 9   list-view-location   8136 non-null   object \n",
      " 10  he-lazy-image src    7649 non-null   object \n",
      " 11  left                 8114 non-null   object \n",
      " 12  img-wrp href         4555 non-null   object \n",
      " 13  he-lazy-image src 2  4067 non-null   object \n",
      " 14  branded__text        134 non-null    object \n",
      " 15  branded__text 2      134 non-null    object \n",
      " 16  img-wrp href 2       133 non-null    object \n",
      " 17  he-lazy-image src 3  116 non-null    object \n",
      "dtypes: float64(1), object(17)\n",
      "memory usage: 1.1+ MB\n",
      "None\n"
     ]
    }
   ],
   "source": [
    "print(df.info())"
   ]
  },
  {
   "cell_type": "code",
   "execution_count": 101,
   "metadata": {},
   "outputs": [
    {
     "name": "stdout",
     "output_type": "stream",
     "text": [
      "Index(['img-link href', 'photo-count', 'list-view-price', 'list-view-date',\n",
      "       'celly', 'celly 2', 'celly 3', 'celly 4', 'list-view-header',\n",
      "       'list-view-location', 'he-lazy-image src', 'left', 'img-wrp href',\n",
      "       'he-lazy-image src 2', 'branded__text', 'branded__text 2',\n",
      "       'img-wrp href 2', 'he-lazy-image src 3'],\n",
      "      dtype='object')\n"
     ]
    }
   ],
   "source": [
    "print(df.columns)"
   ]
  },
  {
   "cell_type": "code",
   "execution_count": 102,
   "metadata": {},
   "outputs": [],
   "source": [
    "cols = ['photo-count', 'list-view-date', 'list-view-header', 'list-view-location', 'he-lazy-image src', 'left', 'img-wrp href', 'he-lazy-image src 2', 'branded__text', 'branded__text 2', 'img-wrp href 2', 'he-lazy-image src 3']\n",
    "drop_columns(df, cols)"
   ]
  },
  {
   "cell_type": "code",
   "execution_count": 103,
   "metadata": {},
   "outputs": [
    {
     "name": "stdout",
     "output_type": "stream",
     "text": [
      "<class 'pandas.core.frame.DataFrame'>\n",
      "RangeIndex: 8136 entries, 0 to 8135\n",
      "Data columns (total 6 columns):\n",
      " #   Column           Non-Null Count  Dtype \n",
      "---  ------           --------------  ----- \n",
      " 0   img-link href    8136 non-null   object\n",
      " 1   list-view-price  8136 non-null   object\n",
      " 2   celly            8136 non-null   object\n",
      " 3   celly 2          8136 non-null   object\n",
      " 4   celly 3          8136 non-null   object\n",
      " 5   celly 4          6858 non-null   object\n",
      "dtypes: object(6)\n",
      "memory usage: 381.5+ KB\n",
      "None\n"
     ]
    }
   ],
   "source": [
    "print(df.info())"
   ]
  },
  {
   "cell_type": "code",
   "execution_count": 104,
   "metadata": {},
   "outputs": [],
   "source": [
    "df['location'] = df['img-link href'].apply(lambda x: x.split('/')[3])\n",
    "df['city'] = df['location'].str.split('-').str[0]\n",
    "df['district'] = df['location'].str.split('-').str[1]\n",
    "df['neighborhood'] = df['location'].str.split('-').str[2:-1]\n",
    "df['neighborhood'] = df['neighborhood'].apply(lambda x: '_'.join(x))"
   ]
  },
  {
   "cell_type": "code",
   "execution_count": 105,
   "metadata": {},
   "outputs": [],
   "source": [
    "drop_columns(df, ['location', 'img-link href'])"
   ]
  },
  {
   "cell_type": "code",
   "execution_count": 106,
   "metadata": {},
   "outputs": [
    {
     "name": "stdout",
     "output_type": "stream",
     "text": [
      "<class 'pandas.core.frame.DataFrame'>\n",
      "RangeIndex: 8136 entries, 0 to 8135\n",
      "Data columns (total 8 columns):\n",
      " #   Column           Non-Null Count  Dtype \n",
      "---  ------           --------------  ----- \n",
      " 0   list-view-price  8136 non-null   object\n",
      " 1   celly            8136 non-null   object\n",
      " 2   celly 2          8136 non-null   object\n",
      " 3   celly 3          8136 non-null   object\n",
      " 4   celly 4          6858 non-null   object\n",
      " 5   city             8136 non-null   object\n",
      " 6   district         8136 non-null   object\n",
      " 7   neighborhood     8136 non-null   object\n",
      "dtypes: object(8)\n",
      "memory usage: 508.6+ KB\n",
      "None\n"
     ]
    }
   ],
   "source": [
    "print(df.info())"
   ]
  },
  {
   "cell_type": "code",
   "execution_count": 107,
   "metadata": {},
   "outputs": [
    {
     "name": "stdout",
     "output_type": "stream",
     "text": [
      "         city      district           neighborhood\n",
      "5872    mugla        bodrum                  geris\n",
      "1243    izmir         cesme               reisdere\n",
      "2562    izmir      bayrakli                 adalet\n",
      "1726    izmir         konak                 kultur\n",
      "6362    mugla        bodrum                 gumbet\n",
      "7237    mugla       fethiye              pazaryeri\n",
      "4188  denizli  merkezefendi              muratdede\n",
      "4169  denizli     pamukkale          dokuzkavaklar\n",
      "4810    izmir     karsiyaka              donanmaci\n",
      "148     izmir         cesme                  ilica\n",
      "5311    izmir         cigli            kucuk_cigli\n",
      "7217    mugla       dalaman                    ege\n",
      "654     izmir         konak               alsancak\n",
      "152     izmir         cesme                alacati\n",
      "6250    mugla       mentese               orhaniye\n",
      "4616  denizli     pamukkale              zeytinkoy\n",
      "7457    mugla         milas                   emek\n",
      "6326    mugla       fethiye              karaculha\n",
      "1250    izmir    karabaglar              uckuyular\n",
      "5261    izmir         cesme            celal_bayar\n",
      "3665    aydin      kusadasi               yaylakoy\n",
      "1865    izmir       menemen          incirli_pinar\n",
      "4417  denizli  merkezefendi              hallaclar\n",
      "6878   manisa    sehzadeler            mimar_sinan\n",
      "5712    mugla      marmaris                   tepe\n",
      "3272    aydin        efeler                    ata\n",
      "5613    mugla         milas             cumhuriyet\n",
      "751     izmir       torbali               muratbey\n",
      "7484    mugla      koycegiz                ulucami\n",
      "4824    izmir          buca              kurucesme\n",
      "4262  denizli  merkezefendi                 adalet\n",
      "1397    izmir       bornova             kazimdirik\n",
      "420     izmir      menderes  gumuldur_fevzi_cakmak\n",
      "346     izmir         cigli             cumhuriyet\n",
      "5928    mugla        bodrum                  bitez\n",
      "6031    mugla        ortaca               kemaliye\n",
      "7425    mugla         milas                 gulluk\n",
      "8045    mugla         milas                 gulluk\n",
      "7683    mugla        bodrum              yalikavak\n",
      "1113    izmir          buca                adatepe\n",
      "3559    aydin      kusadasi                sogucak\n",
      "6952   manisa       akhisar               hurriyet\n",
      "1740    izmir    guzelbahce                  yelki\n",
      "6347    mugla        bodrum               kumbahce\n",
      "3573    aydin       nazilli                  turan\n",
      "673     izmir          urla                icmeler\n",
      "230     izmir      bayrakli              manavkuyu\n",
      "6704    mugla        ortaca             eksiliyurt\n",
      "5956    mugla        bodrum             turgutreis\n",
      "3432    aydin        efeler      koprulu_veysipasa\n"
     ]
    }
   ],
   "source": [
    "print(df[['city', 'district', 'neighborhood']].sample(50))"
   ]
  },
  {
   "cell_type": "code",
   "execution_count": 108,
   "metadata": {},
   "outputs": [
    {
     "name": "stdout",
     "output_type": "stream",
     "text": [
      "Index(['list-view-price', 'celly', 'celly 2', 'celly 3', 'celly 4', 'city',\n",
      "       'district', 'neighborhood'],\n",
      "      dtype='object')\n"
     ]
    }
   ],
   "source": [
    "print(df.columns)"
   ]
  },
  {
   "cell_type": "code",
   "execution_count": 109,
   "metadata": {},
   "outputs": [
    {
     "name": "stdout",
     "output_type": "stream",
     "text": [
      "['3 +\\n                        1' '2 +\\n                        1'\n",
      " '1 +\\n                        1' '4 +\\n                        1'\n",
      " '2 +\\n                        0' 'Stüdyo'\n",
      " '3 +\\n                        0' '1 +\\n                        15'\n",
      " '2 +\\n                        2' '6 +\\n                        2'\n",
      " '4 +\\n                        2' '3 +\\n                        2'\n",
      " '9 +\\n                        1' '6 +\\n                        1'\n",
      " '8 +\\n                        1' '5 +\\n                        1'\n",
      " '41 +\\n                        4' '4 +\\n                        0'\n",
      " '5 +\\n                        2' '1 +\\n                        25'\n",
      " '7 +\\n                        1' '21 +\\n                        1'\n",
      " '7 +\\n                        2' '6 +\\n                        0'\n",
      " '9 +\\n                        4' '4 +\\n                        4'\n",
      " '3 +\\n                        3' '31 +\\n                        1'\n",
      " '9 +\\n                        3' '25 +\\n                        5'\n",
      " '8 +\\n                        0' '9 +\\n                        9'\n",
      " '14 +\\n                        6' '10 +\\n                        1'\n",
      " '1 +\\n                        2' '3 +\\n                        4'\n",
      " '4 +\\n                        3' '9 +\\n                        5'\n",
      " '8 +\\n                        4' '4 +\\n                        5']\n"
     ]
    }
   ],
   "source": [
    "print(df['celly'].unique())"
   ]
  },
  {
   "cell_type": "code",
   "execution_count": 110,
   "metadata": {},
   "outputs": [],
   "source": [
    "df['celly'] = df['celly'].apply(lambda x: x.replace('Stüdyo', '1 + 0'))\n",
    "df['celly'] = df['celly'].apply(lambda x: x.replace('\\n', ''))\n",
    "df['room'] = df['celly'].apply(lambda x: x.split('+')[0]).astype(int)\n",
    "df['living_room'] = df['celly'].apply(lambda x: x.split('+')[1]).astype(int)"
   ]
  },
  {
   "cell_type": "code",
   "execution_count": 111,
   "metadata": {},
   "outputs": [
    {
     "name": "stdout",
     "output_type": "stream",
     "text": [
      "[ 3  2  1  4  6  9  8  5 41  7 21 31 25 14 10]\n",
      "[ 1  0 15  2  4 25  3  5  9  6]\n"
     ]
    }
   ],
   "source": [
    "print(df['room'].unique())\n",
    "print(df['living_room'].unique())"
   ]
  },
  {
   "cell_type": "code",
   "execution_count": 112,
   "metadata": {},
   "outputs": [],
   "source": [
    "drop_columns(df, ['celly'])"
   ]
  },
  {
   "cell_type": "code",
   "execution_count": 113,
   "metadata": {},
   "outputs": [
    {
     "name": "stdout",
     "output_type": "stream",
     "text": [
      "<class 'pandas.core.frame.DataFrame'>\n",
      "RangeIndex: 8136 entries, 0 to 8135\n",
      "Data columns (total 9 columns):\n",
      " #   Column           Non-Null Count  Dtype \n",
      "---  ------           --------------  ----- \n",
      " 0   list-view-price  8136 non-null   object\n",
      " 1   celly 2          8136 non-null   object\n",
      " 2   celly 3          8136 non-null   object\n",
      " 3   celly 4          6858 non-null   object\n",
      " 4   city             8136 non-null   object\n",
      " 5   district         8136 non-null   object\n",
      " 6   neighborhood     8136 non-null   object\n",
      " 7   room             8136 non-null   int64 \n",
      " 8   living_room      8136 non-null   int64 \n",
      "dtypes: int64(2), object(7)\n",
      "memory usage: 572.2+ KB\n",
      "None\n"
     ]
    }
   ],
   "source": [
    "print(df.info())"
   ]
  },
  {
   "cell_type": "code",
   "execution_count": 114,
   "metadata": {},
   "outputs": [
    {
     "name": "stdout",
     "output_type": "stream",
     "text": [
      "['150 m²' '110 m²' '60 m²' '50 m²' '300 m²' '117 m²' '70 m²' '140 m²'\n",
      " '130 m²' '75 m²' '160 m²' '165 m²' '135 m²' '85 m²' '120 m²' '48 m²'\n",
      " '125 m²' '80 m²' '95 m²' '100 m²' '105 m²' '180 m²' '3.200 m²' '90 m²'\n",
      " '76 m²' '55 m²' '65 m²' '145 m²' '45 m²' '115 m²' '35 m²' '53 m²'\n",
      " '155 m²' '148 m²' '78 m²' '151 m²' '30 m²' '270 m²' '440 m²' '132 m²'\n",
      " '121 m²' '141 m²' '170 m²' '122 m²' '200 m²' '87 m²' '146 m²' '220 m²'\n",
      " '108 m²' '370 m²' '86 m²' '380 m²' '47 m²' '43 m²' '63 m²' '245 m²'\n",
      " '204 m²' '183 m²' '190 m²' '600 m²' '119 m²' '72 m²' '350 m²' '142 m²'\n",
      " '520 m²' '166 m²' '870 m²' '330 m²' '96 m²' '41 m²' '143 m²' '280 m²'\n",
      " '64 m²' '57 m²' '286 m²' '340 m²' '81 m²' '185 m²' '40 m²' '168 m²'\n",
      " '116 m²' '93 m²' '209 m²' '59 m²' '77 m²' '400 m²' '98 m²' '106 m²'\n",
      " '174 m²' '205 m²' '74 m²' '500 m²' '68 m²' '1.301 m²' '275 m²' '52 m²'\n",
      " '137 m²' '167 m²' '217 m²' '25 m²' '250 m²' '290 m²' '112 m²' '196 m²'\n",
      " '184 m²' '450 m²' '159 m²' '195 m²' '640 m²' '230 m²' '260 m²' '285 m²'\n",
      " '235 m²' '337 m²' '211 m²' '240 m²' '134 m²' '832 m²' '1.000 m²' '38 m²'\n",
      " '147 m²' '152 m²' '88 m²' '213 m²' '126 m²' '255 m²' '199 m²' '127 m²'\n",
      " '11 m²' '154 m²' '22 m²' '66 m²' '399 m²' '187 m²' '67 m²' '210 m²'\n",
      " '89 m²' '355 m²' '97 m²' '84 m²' '42 m²' '51 m²' '73 m²' '325 m²' '71 m²'\n",
      " '3.000 m²' '175 m²' '320 m²' '156 m²' '162 m²' '18 m²' '56 m²' '136 m²'\n",
      " '131 m²' '580 m²' '375 m²' '161 m²' '163 m²' '149 m²' '206 m²' '138 m²'\n",
      " '475 m²' '359 m²' '124 m²' '91 m²' '194 m²' '4.500 m²' '20 m²' '103 m²'\n",
      " '58 m²' '302 m²' '505 m²' '800 m²' '368 m²' '178 m²' '750 m²' '92 m²'\n",
      " '181 m²' '460 m²' '390 m²' '360 m²' '550 m²' '4.000 m²' '295 m²' '128 m²'\n",
      " '341 m²' '745 m²' '118 m²' '144 m²' '15 m²' '82 m²' '49 m²' '176 m²'\n",
      " '182 m²' '981 m²' '256 m²' '62 m²' '32 m²' '3.510 m²' '215 m²' '1.057 m²'\n",
      " '171 m²' '173 m²' '79 m²' '169 m²' '28 m²' '104 m²' '535 m²' '5.500 m²'\n",
      " '114 m²' '208 m²' '94 m²' '46 m²' '900 m²' '225 m²' '402 m²' '111 m²'\n",
      " '193 m²' '1.100 m²' '212 m²' '102 m²' '177 m²' '249 m²' '109 m²' '420 m²'\n",
      " '995 m²' '545 m²' '192 m²' '1.250 m²' '113 m²' '490 m²' '760 m²' '157 m²'\n",
      " '54 m²' '405 m²' '36 m²' '510 m²' '99 m²' '172 m²' '9.000 m²' '21 m²'\n",
      " '101 m²' '164 m²' '158 m²' '201 m²' '310 m²' '1.150 m²' '2.000 m²'\n",
      " '228 m²' '700 m²' '349 m²' '203 m²' '31 m²' '33 m²' '950 m²' '650 m²'\n",
      " '252 m²' '493 m²' '265 m²' '1.400 m²' '5 m²' '317 m²' '850 m²']\n"
     ]
    }
   ],
   "source": [
    "print(df['celly 2'].unique())"
   ]
  },
  {
   "cell_type": "code",
   "execution_count": 115,
   "metadata": {},
   "outputs": [],
   "source": [
    "df['celly 2'] = df['celly 2'].apply(lambda x: x.replace('.', ''))\n",
    "df['area'] = df['celly 2'].apply(lambda x: x.split(' ')[0]).astype(int)"
   ]
  },
  {
   "cell_type": "code",
   "execution_count": 116,
   "metadata": {},
   "outputs": [
    {
     "name": "stdout",
     "output_type": "stream",
     "text": [
      "[ 150  110   60   50  300  117   70  140  130   75  160  165  135   85\n",
      "  120   48  125   80   95  100  105  180 3200   90   76   55   65  145\n",
      "   45  115   35   53  155  148   78  151   30  270  440  132  121  141\n",
      "  170  122  200   87  146  220  108  370   86  380   47   43   63  245\n",
      "  204  183  190  600  119   72  350  142  520  166  870  330   96   41\n",
      "  143  280   64   57  286  340   81  185   40  168  116   93  209   59\n",
      "   77  400   98  106  174  205   74  500   68 1301  275   52  137  167\n",
      "  217   25  250  290  112  196  184  450  159  195  640  230  260  285\n",
      "  235  337  211  240  134  832 1000   38  147  152   88  213  126  255\n",
      "  199  127   11  154   22   66  399  187   67  210   89  355   97   84\n",
      "   42   51   73  325   71 3000  175  320  156  162   18   56  136  131\n",
      "  580  375  161  163  149  206  138  475  359  124   91  194 4500   20\n",
      "  103   58  302  505  800  368  178  750   92  181  460  390  360  550\n",
      " 4000  295  128  341  745  118  144   15   82   49  176  182  981  256\n",
      "   62   32 3510  215 1057  171  173   79  169   28  104  535 5500  114\n",
      "  208   94   46  900  225  402  111  193 1100  212  102  177  249  109\n",
      "  420  995  545  192 1250  113  490  760  157   54  405   36  510   99\n",
      "  172 9000   21  101  164  158  201  310 1150 2000  228  700  349  203\n",
      "   31   33  950  650  252  493  265 1400    5  317  850]\n"
     ]
    }
   ],
   "source": [
    "print(df['area'].unique())"
   ]
  },
  {
   "cell_type": "code",
   "execution_count": 117,
   "metadata": {},
   "outputs": [],
   "source": [
    "drop_columns(df, ['celly 2'])"
   ]
  },
  {
   "cell_type": "code",
   "execution_count": 118,
   "metadata": {},
   "outputs": [
    {
     "name": "stdout",
     "output_type": "stream",
     "text": [
      "<class 'pandas.core.frame.DataFrame'>\n",
      "RangeIndex: 8136 entries, 0 to 8135\n",
      "Data columns (total 9 columns):\n",
      " #   Column           Non-Null Count  Dtype \n",
      "---  ------           --------------  ----- \n",
      " 0   list-view-price  8136 non-null   object\n",
      " 1   celly 3          8136 non-null   object\n",
      " 2   celly 4          6858 non-null   object\n",
      " 3   city             8136 non-null   object\n",
      " 4   district         8136 non-null   object\n",
      " 5   neighborhood     8136 non-null   object\n",
      " 6   room             8136 non-null   int64 \n",
      " 7   living_room      8136 non-null   int64 \n",
      " 8   area             8136 non-null   int64 \n",
      "dtypes: int64(3), object(6)\n",
      "memory usage: 572.2+ KB\n",
      "None\n"
     ]
    }
   ],
   "source": [
    "print(df.info())"
   ]
  },
  {
   "cell_type": "code",
   "execution_count": 119,
   "metadata": {},
   "outputs": [
    {
     "name": "stdout",
     "output_type": "stream",
     "text": [
      "['20\\n                      Yaşında' '8\\n                      Yaşında'\n",
      " 'Sıfır Bina' '10\\n                      Yaşında'\n",
      " '11\\n                      Yaşında' '5\\n                      Yaşında'\n",
      " '4\\n                      Yaşında' '3\\n                      Yaşında'\n",
      " '15\\n                      Yaşında' '1\\n                      Yaşında'\n",
      " '24\\n                      Yaşında' '2\\n                      Yaşında'\n",
      " '17\\n                      Yaşında' '30\\n                      Yaşında'\n",
      " '28\\n                      Yaşında' '25\\n                      Yaşında'\n",
      " '16\\n                      Yaşında' '21\\n                      Yaşında'\n",
      " '18\\n                      Yaşında' '31\\n                      Yaşında'\n",
      " '22\\n                      Yaşında' '7\\n                      Yaşında'\n",
      " '13\\n                      Yaşında' '9\\n                      Yaşında'\n",
      " '6\\n                      Yaşında' '35\\n                      Yaşında'\n",
      " '39\\n                      Yaşında' '14\\n                      Yaşında'\n",
      " '19\\n                      Yaşında' '33\\n                      Yaşında'\n",
      " '26\\n                      Yaşında' '12\\n                      Yaşında'\n",
      " '29\\n                      Yaşında' '49\\n                      Yaşında'\n",
      " '27\\n                      Yaşında' '32\\n                      Yaşında'\n",
      " '52\\n                      Yaşında' '40\\n                      Yaşında'\n",
      " '38\\n                      Yaşında' '44\\n                      Yaşında'\n",
      " '50\\n                      Yaşında' '34\\n                      Yaşında'\n",
      " '23\\n                      Yaşında' '45\\n                      Yaşında'\n",
      " '42\\n                      Yaşında' '55\\n                      Yaşında'\n",
      " '36\\n                      Yaşında' '43\\n                      Yaşında'\n",
      " '37\\n                      Yaşında' '47\\n                      Yaşında'\n",
      " '300\\n                      Yaşında' '48\\n                      Yaşında'\n",
      " '199\\n                      Yaşında' '100\\n                      Yaşında'\n",
      " '60\\n                      Yaşında' '61\\n                      Yaşında'\n",
      " '600\\n                      Yaşında']\n"
     ]
    }
   ],
   "source": [
    "print(df['celly 3'].unique())"
   ]
  },
  {
   "cell_type": "code",
   "execution_count": 120,
   "metadata": {},
   "outputs": [],
   "source": [
    "df['celly 3'] = df['celly 3'].apply(lambda x: x.replace('Sıfır Bina', '0 Yaşında'))\n",
    "df['celly 3'] = df['celly 3'].apply(lambda x: x.replace('\\n', ' '))\n",
    "df['age'] = df['celly 3'].apply(lambda x: x.split(' ')[0]).astype(int)"
   ]
  },
  {
   "cell_type": "code",
   "execution_count": 121,
   "metadata": {},
   "outputs": [
    {
     "name": "stdout",
     "output_type": "stream",
     "text": [
      "[ 20   8   0  10  11   5   4   3  15   1  24   2  17  30  28  25  16  21\n",
      "  18  31  22   7  13   9   6  35  39  14  19  33  26  12  29  49  27  32\n",
      "  52  40  38  44  50  34  23  45  42  55  36  43  37  47 300  48 199 100\n",
      "  60  61 600]\n"
     ]
    }
   ],
   "source": [
    "print(df['age'].unique())"
   ]
  },
  {
   "cell_type": "code",
   "execution_count": 122,
   "metadata": {},
   "outputs": [],
   "source": [
    "drop_columns(df, ['celly 3'])"
   ]
  },
  {
   "cell_type": "code",
   "execution_count": 123,
   "metadata": {},
   "outputs": [
    {
     "name": "stdout",
     "output_type": "stream",
     "text": [
      "<class 'pandas.core.frame.DataFrame'>\n",
      "RangeIndex: 8136 entries, 0 to 8135\n",
      "Data columns (total 9 columns):\n",
      " #   Column           Non-Null Count  Dtype \n",
      "---  ------           --------------  ----- \n",
      " 0   list-view-price  8136 non-null   object\n",
      " 1   celly 4          6858 non-null   object\n",
      " 2   city             8136 non-null   object\n",
      " 3   district         8136 non-null   object\n",
      " 4   neighborhood     8136 non-null   object\n",
      " 5   room             8136 non-null   int64 \n",
      " 6   living_room      8136 non-null   int64 \n",
      " 7   area             8136 non-null   int64 \n",
      " 8   age              8136 non-null   int64 \n",
      "dtypes: int64(4), object(5)\n",
      "memory usage: 572.2+ KB\n",
      "None\n"
     ]
    }
   ],
   "source": [
    "print(df.info())"
   ]
  },
  {
   "cell_type": "code",
   "execution_count": 124,
   "metadata": {},
   "outputs": [
    {
     "name": "stdout",
     "output_type": "stream",
     "text": [
      "['Kot 2' '1. Kat' '4. Kat' '5. Kat' '7. Kat' '3. Kat' '2. Kat' 'Kot 1'\n",
      " 'Yüksek Giriş' '9. Kat' 'Ara Kat' 'En Üst Kat' 'Bahçe Katı' 'Yarı Bodrum'\n",
      " nan 'Bodrum' 'Kot 3' 'Çatı Katı' 'Zemin' '8. Kat' 'Giriş Katı' '6. Kat'\n",
      " '16. Kat' '17. Kat' 'Villa Katı' '10. Kat' '13. Kat' '12. Kat' '11. Kat'\n",
      " '14. Kat' '21 ve üzeri' 'Bodrum ve Zemin' 'Asma Kat' '18. Kat' 'Tripleks'\n",
      " 'Teras Katı' '15. Kat' '20. Kat' '19. Kat']\n"
     ]
    }
   ],
   "source": [
    "print(df['celly 4'].unique())"
   ]
  },
  {
   "cell_type": "code",
   "execution_count": 128,
   "metadata": {},
   "outputs": [],
   "source": [
    "replace_dict = {\n",
    "    'Kot 2': '-2. Kat',\n",
    "    'Kot 1': '-1. Kat',\n",
    "    'Yüksek Giriş': '1. Kat',\n",
    "    'Ara Kat': '3. Kat',\n",
    "    'En Üst Kat': '5. Kat',\n",
    "    'Bahçe Katı': '0. Kat',\n",
    "    'Yarı Bodrum': '0. Kat',\n",
    "    'Bodrum': '0. Kat',\n",
    "    'Kot 3': '-3. Kat',\n",
    "    'Çatı Katı': '5. Kat',\n",
    "    'Zemin': '0. Kat',\n",
    "    'Giriş Katı': '0. Kat',\n",
    "    'Villa Katı': '0. Kat',\n",
    "    '21 ve üzeri': '21. Kat',\n",
    "    'Bodrum ve Zemin': '0. Kat',\n",
    "    'Asma Kat': '1. Kat',\n",
    "    'Tripleks': '0. Kat',\n",
    "    'Teras Katı': '5. Kat',\n",
    "    'nan': '2. Kat',\n",
    "}\n",
    "df['celly 4'] = df['celly 4'].replace(replace_dict.keys(), replace_dict.values()).astype(str)\n",
    "df['celly 4'].dropna(inplace=True)\n",
    "df['floor'] = df['celly 4'].apply(lambda x: x.split('.')[0]).astype(int)"
   ]
  },
  {
   "cell_type": "code",
   "execution_count": 129,
   "metadata": {},
   "outputs": [
    {
     "name": "stdout",
     "output_type": "stream",
     "text": [
      "[-2  1  4  5  7  3  2 -1  9  0 -3  8  6 16 17 10 13 12 11 14 21 18 15 20\n",
      " 19]\n"
     ]
    }
   ],
   "source": [
    "print(df['floor'].unique())"
   ]
  },
  {
   "cell_type": "code",
   "execution_count": 130,
   "metadata": {},
   "outputs": [],
   "source": [
    "drop_columns(df, ['celly 4'])"
   ]
  },
  {
   "cell_type": "code",
   "execution_count": 131,
   "metadata": {},
   "outputs": [
    {
     "name": "stdout",
     "output_type": "stream",
     "text": [
      "<class 'pandas.core.frame.DataFrame'>\n",
      "RangeIndex: 8136 entries, 0 to 8135\n",
      "Data columns (total 9 columns):\n",
      " #   Column           Non-Null Count  Dtype \n",
      "---  ------           --------------  ----- \n",
      " 0   list-view-price  8136 non-null   object\n",
      " 1   city             8136 non-null   object\n",
      " 2   district         8136 non-null   object\n",
      " 3   neighborhood     8136 non-null   object\n",
      " 4   room             8136 non-null   int64 \n",
      " 5   living_room      8136 non-null   int64 \n",
      " 6   area             8136 non-null   int64 \n",
      " 7   age              8136 non-null   int64 \n",
      " 8   floor            8136 non-null   int64 \n",
      "dtypes: int64(5), object(4)\n",
      "memory usage: 572.2+ KB\n",
      "None\n"
     ]
    }
   ],
   "source": [
    "print(df.info())"
   ]
  },
  {
   "cell_type": "code",
   "execution_count": null,
   "metadata": {},
   "outputs": [],
   "source": []
  }
 ],
 "metadata": {
  "kernelspec": {
   "display_name": "Python 3",
   "language": "python",
   "name": "python3"
  },
  "language_info": {
   "codemirror_mode": {
    "name": "ipython",
    "version": 3
   },
   "file_extension": ".py",
   "mimetype": "text/x-python",
   "name": "python",
   "nbconvert_exporter": "python",
   "pygments_lexer": "ipython3",
   "version": "3.12.3"
  }
 },
 "nbformat": 4,
 "nbformat_minor": 2
}
